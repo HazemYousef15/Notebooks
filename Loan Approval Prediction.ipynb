{
 "cells": [
  {
   "cell_type": "markdown",
   "id": "8d6d91c2",
   "metadata": {
    "execution": {
     "iopub.execute_input": "2022-07-22T17:28:15.012300Z",
     "iopub.status.busy": "2022-07-22T17:28:15.011680Z",
     "iopub.status.idle": "2022-07-22T17:28:16.709422Z",
     "shell.execute_reply": "2022-07-22T17:28:16.708316Z"
    },
    "papermill": {
     "duration": 1.714234,
     "end_time": "2022-07-22T17:28:16.712878",
     "exception": false,
     "start_time": "2022-07-22T17:28:14.998644",
     "status": "completed"
    },
    "tags": []
   },
   "source": [
    "## Problem Statement\n",
    "- Company wants to automate the loan eligibility process (real time) based on customer detail provided while filling online - -application form. These details are Gender, Marital Status, Education, Number of Dependents, Income, Loan Amount, Credit History and others. To automate this process, they have given a problem to identify the customers segments, those are eligible for loan amount so that they can specifically target these customers.\n"
   ]
  },
  {
   "cell_type": "code",
   "execution_count": 22,
   "id": "3e5282e9",
   "metadata": {},
   "outputs": [],
   "source": [
    "import pandas as pd\n",
    "from matplotlib import pyplot as plt\n",
    "import seaborn as sns\n",
    "from sklearn import svm\n",
    "from sklearn.ensemble import AdaBoostClassifier,RandomForestClassifier\n",
    "from sklearn.preprocessing import LabelEncoder\n",
    "from sklearn.model_selection import train_test_split\n",
    "from sklearn.metrics import precision_score, recall_score, f1_score, accuracy_score, confusion_matrix\n",
    "from xgboost import XGBClassifier\n",
    "import numpy as np\n",
    "from numpy import NaN\n",
    "from statistics import mode\n",
    "#from imblearn.over_sampling import SMOTE"
   ]
  },
  {
   "cell_type": "markdown",
   "id": "b5181c52",
   "metadata": {},
   "source": [
    "## Helper Function"
   ]
  },
  {
   "cell_type": "code",
   "execution_count": 23,
   "id": "f724b28e",
   "metadata": {},
   "outputs": [],
   "source": [
    "#apply label encoding \n",
    "def Feature_Encoder(X,cols):\n",
    "    for c in cols:\n",
    "        lbl = LabelEncoder()\n",
    "        lbl.fit(list(X[c].values))\n",
    "        X[c] = lbl.transform(list(X[c].values))\n",
    "    return X\n"
   ]
  },
  {
   "cell_type": "markdown",
   "id": "47e74da9",
   "metadata": {
    "papermill": {
     "duration": 0.009951,
     "end_time": "2022-07-22T17:28:16.878049",
     "exception": false,
     "start_time": "2022-07-22T17:28:16.868098",
     "status": "completed"
    },
    "tags": []
   },
   "source": [
    "## Reading Data and Checking NaN Values and Duplicates "
   ]
  },
  {
   "cell_type": "code",
   "execution_count": 24,
   "id": "2a610aeb",
   "metadata": {
    "execution": {
     "iopub.execute_input": "2022-07-22T17:28:16.901452Z",
     "iopub.status.busy": "2022-07-22T17:28:16.900519Z",
     "iopub.status.idle": "2022-07-22T17:28:16.920372Z",
     "shell.execute_reply": "2022-07-22T17:28:16.919016Z"
    },
    "papermill": {
     "duration": 0.035222,
     "end_time": "2022-07-22T17:28:16.923440",
     "exception": false,
     "start_time": "2022-07-22T17:28:16.888218",
     "status": "completed"
    },
    "tags": []
   },
   "outputs": [
    {
     "name": "stdout",
     "output_type": "stream",
     "text": [
      "Loan_ID               0\n",
      "Gender               13\n",
      "Married               3\n",
      "Dependents           15\n",
      "Education             0\n",
      "Self_Employed        32\n",
      "ApplicantIncome       0\n",
      "CoapplicantIncome     0\n",
      "LoanAmount           22\n",
      "Loan_Amount_Term     14\n",
      "Credit_History       50\n",
      "Property_Area         0\n",
      "Loan_Status           0\n",
      "dtype: int64\n",
      "Duplicates:         0\n"
     ]
    },
    {
     "data": {
      "text/html": [
       "<div>\n",
       "<style scoped>\n",
       "    .dataframe tbody tr th:only-of-type {\n",
       "        vertical-align: middle;\n",
       "    }\n",
       "\n",
       "    .dataframe tbody tr th {\n",
       "        vertical-align: top;\n",
       "    }\n",
       "\n",
       "    .dataframe thead th {\n",
       "        text-align: right;\n",
       "    }\n",
       "</style>\n",
       "<table border=\"1\" class=\"dataframe\">\n",
       "  <thead>\n",
       "    <tr style=\"text-align: right;\">\n",
       "      <th></th>\n",
       "      <th>Loan_ID</th>\n",
       "      <th>Gender</th>\n",
       "      <th>Married</th>\n",
       "      <th>Dependents</th>\n",
       "      <th>Education</th>\n",
       "      <th>Self_Employed</th>\n",
       "      <th>ApplicantIncome</th>\n",
       "      <th>CoapplicantIncome</th>\n",
       "      <th>LoanAmount</th>\n",
       "      <th>Loan_Amount_Term</th>\n",
       "      <th>Credit_History</th>\n",
       "      <th>Property_Area</th>\n",
       "      <th>Loan_Status</th>\n",
       "    </tr>\n",
       "  </thead>\n",
       "  <tbody>\n",
       "    <tr>\n",
       "      <th>0</th>\n",
       "      <td>LP001002</td>\n",
       "      <td>Male</td>\n",
       "      <td>No</td>\n",
       "      <td>0</td>\n",
       "      <td>Graduate</td>\n",
       "      <td>No</td>\n",
       "      <td>5849</td>\n",
       "      <td>0.0</td>\n",
       "      <td>NaN</td>\n",
       "      <td>360.0</td>\n",
       "      <td>1.0</td>\n",
       "      <td>Urban</td>\n",
       "      <td>Y</td>\n",
       "    </tr>\n",
       "    <tr>\n",
       "      <th>1</th>\n",
       "      <td>LP001003</td>\n",
       "      <td>Male</td>\n",
       "      <td>Yes</td>\n",
       "      <td>1</td>\n",
       "      <td>Graduate</td>\n",
       "      <td>No</td>\n",
       "      <td>4583</td>\n",
       "      <td>1508.0</td>\n",
       "      <td>128.0</td>\n",
       "      <td>360.0</td>\n",
       "      <td>1.0</td>\n",
       "      <td>Rural</td>\n",
       "      <td>N</td>\n",
       "    </tr>\n",
       "    <tr>\n",
       "      <th>2</th>\n",
       "      <td>LP001005</td>\n",
       "      <td>Male</td>\n",
       "      <td>Yes</td>\n",
       "      <td>0</td>\n",
       "      <td>Graduate</td>\n",
       "      <td>Yes</td>\n",
       "      <td>3000</td>\n",
       "      <td>0.0</td>\n",
       "      <td>66.0</td>\n",
       "      <td>360.0</td>\n",
       "      <td>1.0</td>\n",
       "      <td>Urban</td>\n",
       "      <td>Y</td>\n",
       "    </tr>\n",
       "    <tr>\n",
       "      <th>3</th>\n",
       "      <td>LP001006</td>\n",
       "      <td>Male</td>\n",
       "      <td>Yes</td>\n",
       "      <td>0</td>\n",
       "      <td>Not Graduate</td>\n",
       "      <td>No</td>\n",
       "      <td>2583</td>\n",
       "      <td>2358.0</td>\n",
       "      <td>120.0</td>\n",
       "      <td>360.0</td>\n",
       "      <td>1.0</td>\n",
       "      <td>Urban</td>\n",
       "      <td>Y</td>\n",
       "    </tr>\n",
       "    <tr>\n",
       "      <th>4</th>\n",
       "      <td>LP001008</td>\n",
       "      <td>Male</td>\n",
       "      <td>No</td>\n",
       "      <td>0</td>\n",
       "      <td>Graduate</td>\n",
       "      <td>No</td>\n",
       "      <td>6000</td>\n",
       "      <td>0.0</td>\n",
       "      <td>141.0</td>\n",
       "      <td>360.0</td>\n",
       "      <td>1.0</td>\n",
       "      <td>Urban</td>\n",
       "      <td>Y</td>\n",
       "    </tr>\n",
       "    <tr>\n",
       "      <th>...</th>\n",
       "      <td>...</td>\n",
       "      <td>...</td>\n",
       "      <td>...</td>\n",
       "      <td>...</td>\n",
       "      <td>...</td>\n",
       "      <td>...</td>\n",
       "      <td>...</td>\n",
       "      <td>...</td>\n",
       "      <td>...</td>\n",
       "      <td>...</td>\n",
       "      <td>...</td>\n",
       "      <td>...</td>\n",
       "      <td>...</td>\n",
       "    </tr>\n",
       "    <tr>\n",
       "      <th>609</th>\n",
       "      <td>LP002978</td>\n",
       "      <td>Female</td>\n",
       "      <td>No</td>\n",
       "      <td>0</td>\n",
       "      <td>Graduate</td>\n",
       "      <td>No</td>\n",
       "      <td>2900</td>\n",
       "      <td>0.0</td>\n",
       "      <td>71.0</td>\n",
       "      <td>360.0</td>\n",
       "      <td>1.0</td>\n",
       "      <td>Rural</td>\n",
       "      <td>Y</td>\n",
       "    </tr>\n",
       "    <tr>\n",
       "      <th>610</th>\n",
       "      <td>LP002979</td>\n",
       "      <td>Male</td>\n",
       "      <td>Yes</td>\n",
       "      <td>3+</td>\n",
       "      <td>Graduate</td>\n",
       "      <td>No</td>\n",
       "      <td>4106</td>\n",
       "      <td>0.0</td>\n",
       "      <td>40.0</td>\n",
       "      <td>180.0</td>\n",
       "      <td>1.0</td>\n",
       "      <td>Rural</td>\n",
       "      <td>Y</td>\n",
       "    </tr>\n",
       "    <tr>\n",
       "      <th>611</th>\n",
       "      <td>LP002983</td>\n",
       "      <td>Male</td>\n",
       "      <td>Yes</td>\n",
       "      <td>1</td>\n",
       "      <td>Graduate</td>\n",
       "      <td>No</td>\n",
       "      <td>8072</td>\n",
       "      <td>240.0</td>\n",
       "      <td>253.0</td>\n",
       "      <td>360.0</td>\n",
       "      <td>1.0</td>\n",
       "      <td>Urban</td>\n",
       "      <td>Y</td>\n",
       "    </tr>\n",
       "    <tr>\n",
       "      <th>612</th>\n",
       "      <td>LP002984</td>\n",
       "      <td>Male</td>\n",
       "      <td>Yes</td>\n",
       "      <td>2</td>\n",
       "      <td>Graduate</td>\n",
       "      <td>No</td>\n",
       "      <td>7583</td>\n",
       "      <td>0.0</td>\n",
       "      <td>187.0</td>\n",
       "      <td>360.0</td>\n",
       "      <td>1.0</td>\n",
       "      <td>Urban</td>\n",
       "      <td>Y</td>\n",
       "    </tr>\n",
       "    <tr>\n",
       "      <th>613</th>\n",
       "      <td>LP002990</td>\n",
       "      <td>Female</td>\n",
       "      <td>No</td>\n",
       "      <td>0</td>\n",
       "      <td>Graduate</td>\n",
       "      <td>Yes</td>\n",
       "      <td>4583</td>\n",
       "      <td>0.0</td>\n",
       "      <td>133.0</td>\n",
       "      <td>360.0</td>\n",
       "      <td>0.0</td>\n",
       "      <td>Semiurban</td>\n",
       "      <td>N</td>\n",
       "    </tr>\n",
       "  </tbody>\n",
       "</table>\n",
       "<p>614 rows × 13 columns</p>\n",
       "</div>"
      ],
      "text/plain": [
       "      Loan_ID  Gender Married Dependents     Education Self_Employed  \\\n",
       "0    LP001002    Male      No          0      Graduate            No   \n",
       "1    LP001003    Male     Yes          1      Graduate            No   \n",
       "2    LP001005    Male     Yes          0      Graduate           Yes   \n",
       "3    LP001006    Male     Yes          0  Not Graduate            No   \n",
       "4    LP001008    Male      No          0      Graduate            No   \n",
       "..        ...     ...     ...        ...           ...           ...   \n",
       "609  LP002978  Female      No          0      Graduate            No   \n",
       "610  LP002979    Male     Yes         3+      Graduate            No   \n",
       "611  LP002983    Male     Yes          1      Graduate            No   \n",
       "612  LP002984    Male     Yes          2      Graduate            No   \n",
       "613  LP002990  Female      No          0      Graduate           Yes   \n",
       "\n",
       "     ApplicantIncome  CoapplicantIncome  LoanAmount  Loan_Amount_Term  \\\n",
       "0               5849                0.0         NaN             360.0   \n",
       "1               4583             1508.0       128.0             360.0   \n",
       "2               3000                0.0        66.0             360.0   \n",
       "3               2583             2358.0       120.0             360.0   \n",
       "4               6000                0.0       141.0             360.0   \n",
       "..               ...                ...         ...               ...   \n",
       "609             2900                0.0        71.0             360.0   \n",
       "610             4106                0.0        40.0             180.0   \n",
       "611             8072              240.0       253.0             360.0   \n",
       "612             7583                0.0       187.0             360.0   \n",
       "613             4583                0.0       133.0             360.0   \n",
       "\n",
       "     Credit_History Property_Area Loan_Status  \n",
       "0               1.0         Urban           Y  \n",
       "1               1.0         Rural           N  \n",
       "2               1.0         Urban           Y  \n",
       "3               1.0         Urban           Y  \n",
       "4               1.0         Urban           Y  \n",
       "..              ...           ...         ...  \n",
       "609             1.0         Rural           Y  \n",
       "610             1.0         Rural           Y  \n",
       "611             1.0         Urban           Y  \n",
       "612             1.0         Urban           Y  \n",
       "613             0.0     Semiurban           N  \n",
       "\n",
       "[614 rows x 13 columns]"
      ]
     },
     "execution_count": 24,
     "metadata": {},
     "output_type": "execute_result"
    }
   ],
   "source": [
    "df = pd.read_csv('loan_data.csv')\n",
    "print(df.isnull().sum())\n",
    "print(\"Duplicates:        \",df.duplicated().sum())\n",
    "df.describe()\n",
    "df"
   ]
  },
  {
   "cell_type": "markdown",
   "id": "e244b637",
   "metadata": {
    "papermill": {
     "duration": 0.009887,
     "end_time": "2022-07-22T17:28:16.944356",
     "exception": false,
     "start_time": "2022-07-22T17:28:16.934469",
     "status": "completed"
    },
    "tags": []
   },
   "source": [
    "## Spliting Columns based on categorical and numerical"
   ]
  },
  {
   "cell_type": "code",
   "execution_count": 25,
   "id": "b09e61ae",
   "metadata": {
    "execution": {
     "iopub.execute_input": "2022-07-22T17:28:16.967079Z",
     "iopub.status.busy": "2022-07-22T17:28:16.966707Z",
     "iopub.status.idle": "2022-07-22T17:28:16.971852Z",
     "shell.execute_reply": "2022-07-22T17:28:16.970769Z"
    },
    "papermill": {
     "duration": 0.019281,
     "end_time": "2022-07-22T17:28:16.973945",
     "exception": false,
     "start_time": "2022-07-22T17:28:16.954664",
     "status": "completed"
    },
    "tags": []
   },
   "outputs": [],
   "source": [
    "categorical = ['Gender', 'Married', 'Education', 'Self_Employed', 'Credit_History', 'Property_Area', 'Loan_Amount_Term', 'Dependents','Loan_Status']\n",
    "numerical = ['ApplicantIncome', 'CoapplicantIncome', 'LoanAmount']"
   ]
  },
  {
   "cell_type": "code",
   "execution_count": 26,
   "id": "75e8c345",
   "metadata": {
    "execution": {
     "iopub.execute_input": "2022-07-22T17:28:16.996516Z",
     "iopub.status.busy": "2022-07-22T17:28:16.995718Z",
     "iopub.status.idle": "2022-07-22T17:28:17.012204Z",
     "shell.execute_reply": "2022-07-22T17:28:17.011229Z"
    },
    "papermill": {
     "duration": 0.030314,
     "end_time": "2022-07-22T17:28:17.014525",
     "exception": false,
     "start_time": "2022-07-22T17:28:16.984211",
     "status": "completed"
    },
    "tags": []
   },
   "outputs": [],
   "source": [
    "# As number of NaN values are few in comparision to known values in almost all columns thus replacing categroical values with the most frequent value and regresive values with the mean.\n",
    "for col in numerical:\n",
    "    df[f'{col}'].replace(NaN, df[f'{col}'].mean(skipna=True), inplace=True)\n",
    "\n",
    "for col in categorical:\n",
    "    df[f'{col}'].replace(NaN, df[f'{col}'].mode()[0], inplace=True)"
   ]
  },
  {
   "cell_type": "code",
   "execution_count": 27,
   "id": "c1f6debc",
   "metadata": {},
   "outputs": [
    {
     "data": {
      "text/plain": [
       "<AxesSubplot:xlabel='Married', ylabel='Count'>"
      ]
     },
     "execution_count": 27,
     "metadata": {},
     "output_type": "execute_result"
    },
    {
     "data": {
      "image/png": "[encoded data removed]",
      "text/plain": [
       "<Figure size 432x288 with 1 Axes>"
      ]
     },
     "metadata": {
      "needs_background": "light"
     },
     "output_type": "display_data"
    }
   ],
   "source": [
    "sns.histplot(df[df['Loan_Status'] == \"Y\"]['Married'], color='green')\n",
    "sns.histplot(df[df['Loan_Status'] == \"N\"]['Married'], color='red')"
   ]
  },
  {
   "cell_type": "code",
   "execution_count": 28,
   "id": "36298574",
   "metadata": {},
   "outputs": [
    {
     "data": {
      "text/plain": [
       "<AxesSubplot:xlabel='Education', ylabel='Count'>"
      ]
     },
     "execution_count": 28,
     "metadata": {},
     "output_type": "execute_result"
    },
    {
     "data": {
      "image/png": "[encoded data removed]",
      "text/plain": [
       "<Figure size 432x288 with 1 Axes>"
      ]
     },
     "metadata": {
      "needs_background": "light"
     },
     "output_type": "display_data"
    }
   ],
   "source": [
    "sns.histplot(df[df['Loan_Status'] == \"Y\"]['Education'], color='green')\n",
    "sns.histplot(df[df['Loan_Status'] == \"N\"]['Education'], color='red')"
   ]
  },
  {
   "cell_type": "code",
   "execution_count": 29,
   "id": "6133b0d7",
   "metadata": {},
   "outputs": [
    {
     "data": {
      "text/plain": [
       "<AxesSubplot:xlabel='Property_Area', ylabel='Count'>"
      ]
     },
     "execution_count": 29,
     "metadata": {},
     "output_type": "execute_result"
    },
    {
     "data": {
      "image/png": "[encoded data removed]",
      "text/plain": [
       "<Figure size 432x288 with 1 Axes>"
      ]
     },
     "metadata": {
      "needs_background": "light"
     },
     "output_type": "display_data"
    }
   ],
   "source": [
    "sns.histplot(df[df['Loan_Status'] == \"Y\"]['Property_Area'], color='green')\n",
    "sns.histplot(df[df['Loan_Status'] == \"N\"]['Property_Area'], color='red')"
   ]
  },
  {
   "cell_type": "markdown",
   "id": "85327553",
   "metadata": {
    "papermill": {
     "duration": 0.0102,
     "end_time": "2022-07-22T17:28:17.034956",
     "exception": false,
     "start_time": "2022-07-22T17:28:17.024756",
     "status": "completed"
    },
    "tags": []
   },
   "source": [
    "## Encoding Categorical Values"
   ]
  },
  {
   "cell_type": "code",
   "execution_count": 30,
   "id": "71219e01",
   "metadata": {
    "execution": {
     "iopub.execute_input": "2022-07-22T17:28:17.057211Z",
     "iopub.status.busy": "2022-07-22T17:28:17.056800Z",
     "iopub.status.idle": "2022-07-22T17:28:17.063992Z",
     "shell.execute_reply": "2022-07-22T17:28:17.062765Z"
    },
    "papermill": {
     "duration": 0.021084,
     "end_time": "2022-07-22T17:28:17.066147",
     "exception": false,
     "start_time": "2022-07-22T17:28:17.045063",
     "status": "completed"
    },
    "tags": []
   },
   "outputs": [
    {
     "data": {
      "text/html": [
       "<div>\n",
       "<style scoped>\n",
       "    .dataframe tbody tr th:only-of-type {\n",
       "        vertical-align: middle;\n",
       "    }\n",
       "\n",
       "    .dataframe tbody tr th {\n",
       "        vertical-align: top;\n",
       "    }\n",
       "\n",
       "    .dataframe thead th {\n",
       "        text-align: right;\n",
       "    }\n",
       "</style>\n",
       "<table border=\"1\" class=\"dataframe\">\n",
       "  <thead>\n",
       "    <tr style=\"text-align: right;\">\n",
       "      <th></th>\n",
       "      <th>Loan_ID</th>\n",
       "      <th>Gender</th>\n",
       "      <th>Married</th>\n",
       "      <th>Dependents</th>\n",
       "      <th>Education</th>\n",
       "      <th>Self_Employed</th>\n",
       "      <th>ApplicantIncome</th>\n",
       "      <th>CoapplicantIncome</th>\n",
       "      <th>LoanAmount</th>\n",
       "      <th>Loan_Amount_Term</th>\n",
       "      <th>Credit_History</th>\n",
       "      <th>Property_Area</th>\n",
       "      <th>Loan_Status</th>\n",
       "    </tr>\n",
       "  </thead>\n",
       "  <tbody>\n",
       "    <tr>\n",
       "      <th>0</th>\n",
       "      <td>LP001002</td>\n",
       "      <td>1</td>\n",
       "      <td>0</td>\n",
       "      <td>0</td>\n",
       "      <td>0</td>\n",
       "      <td>0</td>\n",
       "      <td>5849</td>\n",
       "      <td>0.0</td>\n",
       "      <td>146.412162</td>\n",
       "      <td>8</td>\n",
       "      <td>1</td>\n",
       "      <td>2</td>\n",
       "      <td>1</td>\n",
       "    </tr>\n",
       "    <tr>\n",
       "      <th>1</th>\n",
       "      <td>LP001003</td>\n",
       "      <td>1</td>\n",
       "      <td>1</td>\n",
       "      <td>1</td>\n",
       "      <td>0</td>\n",
       "      <td>0</td>\n",
       "      <td>4583</td>\n",
       "      <td>1508.0</td>\n",
       "      <td>128.000000</td>\n",
       "      <td>8</td>\n",
       "      <td>1</td>\n",
       "      <td>0</td>\n",
       "      <td>0</td>\n",
       "    </tr>\n",
       "    <tr>\n",
       "      <th>2</th>\n",
       "      <td>LP001005</td>\n",
       "      <td>1</td>\n",
       "      <td>1</td>\n",
       "      <td>0</td>\n",
       "      <td>0</td>\n",
       "      <td>1</td>\n",
       "      <td>3000</td>\n",
       "      <td>0.0</td>\n",
       "      <td>66.000000</td>\n",
       "      <td>8</td>\n",
       "      <td>1</td>\n",
       "      <td>2</td>\n",
       "      <td>1</td>\n",
       "    </tr>\n",
       "    <tr>\n",
       "      <th>3</th>\n",
       "      <td>LP001006</td>\n",
       "      <td>1</td>\n",
       "      <td>1</td>\n",
       "      <td>0</td>\n",
       "      <td>1</td>\n",
       "      <td>0</td>\n",
       "      <td>2583</td>\n",
       "      <td>2358.0</td>\n",
       "      <td>120.000000</td>\n",
       "      <td>8</td>\n",
       "      <td>1</td>\n",
       "      <td>2</td>\n",
       "      <td>1</td>\n",
       "    </tr>\n",
       "    <tr>\n",
       "      <th>4</th>\n",
       "      <td>LP001008</td>\n",
       "      <td>1</td>\n",
       "      <td>0</td>\n",
       "      <td>0</td>\n",
       "      <td>0</td>\n",
       "      <td>0</td>\n",
       "      <td>6000</td>\n",
       "      <td>0.0</td>\n",
       "      <td>141.000000</td>\n",
       "      <td>8</td>\n",
       "      <td>1</td>\n",
       "      <td>2</td>\n",
       "      <td>1</td>\n",
       "    </tr>\n",
       "    <tr>\n",
       "      <th>...</th>\n",
       "      <td>...</td>\n",
       "      <td>...</td>\n",
       "      <td>...</td>\n",
       "      <td>...</td>\n",
       "      <td>...</td>\n",
       "      <td>...</td>\n",
       "      <td>...</td>\n",
       "      <td>...</td>\n",
       "      <td>...</td>\n",
       "      <td>...</td>\n",
       "      <td>...</td>\n",
       "      <td>...</td>\n",
       "      <td>...</td>\n",
       "    </tr>\n",
       "    <tr>\n",
       "      <th>609</th>\n",
       "      <td>LP002978</td>\n",
       "      <td>0</td>\n",
       "      <td>0</td>\n",
       "      <td>0</td>\n",
       "      <td>0</td>\n",
       "      <td>0</td>\n",
       "      <td>2900</td>\n",
       "      <td>0.0</td>\n",
       "      <td>71.000000</td>\n",
       "      <td>8</td>\n",
       "      <td>1</td>\n",
       "      <td>0</td>\n",
       "      <td>1</td>\n",
       "    </tr>\n",
       "    <tr>\n",
       "      <th>610</th>\n",
       "      <td>LP002979</td>\n",
       "      <td>1</td>\n",
       "      <td>1</td>\n",
       "      <td>3</td>\n",
       "      <td>0</td>\n",
       "      <td>0</td>\n",
       "      <td>4106</td>\n",
       "      <td>0.0</td>\n",
       "      <td>40.000000</td>\n",
       "      <td>5</td>\n",
       "      <td>1</td>\n",
       "      <td>0</td>\n",
       "      <td>1</td>\n",
       "    </tr>\n",
       "    <tr>\n",
       "      <th>611</th>\n",
       "      <td>LP002983</td>\n",
       "      <td>1</td>\n",
       "      <td>1</td>\n",
       "      <td>1</td>\n",
       "      <td>0</td>\n",
       "      <td>0</td>\n",
       "      <td>8072</td>\n",
       "      <td>240.0</td>\n",
       "      <td>253.000000</td>\n",
       "      <td>8</td>\n",
       "      <td>1</td>\n",
       "      <td>2</td>\n",
       "      <td>1</td>\n",
       "    </tr>\n",
       "    <tr>\n",
       "      <th>612</th>\n",
       "      <td>LP002984</td>\n",
       "      <td>1</td>\n",
       "      <td>1</td>\n",
       "      <td>2</td>\n",
       "      <td>0</td>\n",
       "      <td>0</td>\n",
       "      <td>7583</td>\n",
       "      <td>0.0</td>\n",
       "      <td>187.000000</td>\n",
       "      <td>8</td>\n",
       "      <td>1</td>\n",
       "      <td>2</td>\n",
       "      <td>1</td>\n",
       "    </tr>\n",
       "    <tr>\n",
       "      <th>613</th>\n",
       "      <td>LP002990</td>\n",
       "      <td>0</td>\n",
       "      <td>0</td>\n",
       "      <td>0</td>\n",
       "      <td>0</td>\n",
       "      <td>1</td>\n",
       "      <td>4583</td>\n",
       "      <td>0.0</td>\n",
       "      <td>133.000000</td>\n",
       "      <td>8</td>\n",
       "      <td>0</td>\n",
       "      <td>1</td>\n",
       "      <td>0</td>\n",
       "    </tr>\n",
       "  </tbody>\n",
       "</table>\n",
       "<p>614 rows × 13 columns</p>\n",
       "</div>"
      ],
      "text/plain": [
       "      Loan_ID  Gender  Married  Dependents  Education  Self_Employed  \\\n",
       "0    LP001002       1        0           0          0              0   \n",
       "1    LP001003       1        1           1          0              0   \n",
       "2    LP001005       1        1           0          0              1   \n",
       "3    LP001006       1        1           0          1              0   \n",
       "4    LP001008       1        0           0          0              0   \n",
       "..        ...     ...      ...         ...        ...            ...   \n",
       "609  LP002978       0        0           0          0              0   \n",
       "610  LP002979       1        1           3          0              0   \n",
       "611  LP002983       1        1           1          0              0   \n",
       "612  LP002984       1        1           2          0              0   \n",
       "613  LP002990       0        0           0          0              1   \n",
       "\n",
       "     ApplicantIncome  CoapplicantIncome  LoanAmount  Loan_Amount_Term  \\\n",
       "0               5849                0.0  146.412162                 8   \n",
       "1               4583             1508.0  128.000000                 8   \n",
       "2               3000                0.0   66.000000                 8   \n",
       "3               2583             2358.0  120.000000                 8   \n",
       "4               6000                0.0  141.000000                 8   \n",
       "..               ...                ...         ...               ...   \n",
       "609             2900                0.0   71.000000                 8   \n",
       "610             4106                0.0   40.000000                 5   \n",
       "611             8072              240.0  253.000000                 8   \n",
       "612             7583                0.0  187.000000                 8   \n",
       "613             4583                0.0  133.000000                 8   \n",
       "\n",
       "     Credit_History  Property_Area  Loan_Status  \n",
       "0                 1              2            1  \n",
       "1                 1              0            0  \n",
       "2                 1              2            1  \n",
       "3                 1              2            1  \n",
       "4                 1              2            1  \n",
       "..              ...            ...          ...  \n",
       "609               1              0            1  \n",
       "610               1              0            1  \n",
       "611               1              2            1  \n",
       "612               1              2            1  \n",
       "613               0              1            0  \n",
       "\n",
       "[614 rows x 13 columns]"
      ]
     },
     "execution_count": 30,
     "metadata": {},
     "output_type": "execute_result"
    }
   ],
   "source": [
    "df=Feature_Encoder(df,categorical)\n",
    "df"
   ]
  },
  {
   "cell_type": "code",
   "execution_count": 31,
   "id": "6ee6fb2c",
   "metadata": {
    "execution": {
     "iopub.execute_input": "2022-07-22T17:28:18.072969Z",
     "iopub.status.busy": "2022-07-22T17:28:18.072599Z",
     "iopub.status.idle": "2022-07-22T17:28:18.088038Z",
     "shell.execute_reply": "2022-07-22T17:28:18.086857Z"
    },
    "papermill": {
     "duration": 0.031513,
     "end_time": "2022-07-22T17:28:18.091128",
     "exception": false,
     "start_time": "2022-07-22T17:28:18.059615",
     "status": "completed"
    },
    "tags": []
   },
   "outputs": [
    {
     "name": "stdout",
     "output_type": "stream",
     "text": [
      "<class 'pandas.core.frame.DataFrame'>\n",
      "RangeIndex: 614 entries, 0 to 613\n",
      "Data columns (total 13 columns):\n",
      " #   Column             Non-Null Count  Dtype  \n",
      "---  ------             --------------  -----  \n",
      " 0   Loan_ID            614 non-null    object \n",
      " 1   Gender             614 non-null    int32  \n",
      " 2   Married            614 non-null    int32  \n",
      " 3   Dependents         614 non-null    int32  \n",
      " 4   Education          614 non-null    int32  \n",
      " 5   Self_Employed      614 non-null    int32  \n",
      " 6   ApplicantIncome    614 non-null    int64  \n",
      " 7   CoapplicantIncome  614 non-null    float64\n",
      " 8   LoanAmount         614 non-null    float64\n",
      " 9   Loan_Amount_Term   614 non-null    int64  \n",
      " 10  Credit_History     614 non-null    int64  \n",
      " 11  Property_Area      614 non-null    int32  \n",
      " 12  Loan_Status        614 non-null    int32  \n",
      "dtypes: float64(2), int32(7), int64(3), object(1)\n",
      "memory usage: 45.7+ KB\n"
     ]
    }
   ],
   "source": [
    "df.info()"
   ]
  },
  {
   "cell_type": "markdown",
   "id": "b76c839f",
   "metadata": {
    "papermill": {
     "duration": 0.011192,
     "end_time": "2022-07-22T17:28:18.114393",
     "exception": false,
     "start_time": "2022-07-22T17:28:18.103201",
     "status": "completed"
    },
    "tags": []
   },
   "source": [
    "## Checking Outliers"
   ]
  },
  {
   "cell_type": "code",
   "execution_count": 32,
   "id": "c33a764a",
   "metadata": {
    "execution": {
     "iopub.execute_input": "2022-07-22T17:28:18.139810Z",
     "iopub.status.busy": "2022-07-22T17:28:18.138571Z",
     "iopub.status.idle": "2022-07-22T17:28:18.634306Z",
     "shell.execute_reply": "2022-07-22T17:28:18.633201Z"
    },
    "papermill": {
     "duration": 0.510778,
     "end_time": "2022-07-22T17:28:18.636697",
     "exception": false,
     "start_time": "2022-07-22T17:28:18.125919",
     "status": "completed"
    },
    "tags": []
   },
   "outputs": [
    {
     "data": {
      "image/png": "[encoded data removed]",
      "text/plain": [
       "<Figure size 720x720 with 4 Axes>"
      ]
     },
     "metadata": {
      "needs_background": "light"
     },
     "output_type": "display_data"
    }
   ],
   "source": [
    "fig, axis = plt.subplots(2, 2, figsize=(10,10))\n",
    "\n",
    "for id, i in enumerate(numerical):\n",
    "    sns.boxplot(data=df['{}'.format(i)], ax=axis[id//2, id%2])\n",
    "    axis[id//2, id%2].set_title(f'{i}')\n",
    "plt.tight_layout()"
   ]
  },
  {
   "cell_type": "markdown",
   "id": "ab362617",
   "metadata": {
    "papermill": {
     "duration": 0.011794,
     "end_time": "2022-07-22T17:28:18.660663",
     "exception": false,
     "start_time": "2022-07-22T17:28:18.648869",
     "status": "completed"
    },
    "tags": []
   },
   "source": [
    "## Removing Outliers"
   ]
  },
  {
   "cell_type": "code",
   "execution_count": 33,
   "id": "1fdaaec0",
   "metadata": {
    "execution": {
     "iopub.execute_input": "2022-07-22T17:28:18.686389Z",
     "iopub.status.busy": "2022-07-22T17:28:18.685990Z",
     "iopub.status.idle": "2022-07-22T17:28:18.699716Z",
     "shell.execute_reply": "2022-07-22T17:28:18.698656Z"
    },
    "papermill": {
     "duration": 0.029301,
     "end_time": "2022-07-22T17:28:18.701990",
     "exception": false,
     "start_time": "2022-07-22T17:28:18.672689",
     "status": "completed"
    },
    "tags": []
   },
   "outputs": [
    {
     "data": {
      "text/plain": [
       "ApplicantIncome      2917.50\n",
       "CoapplicantIncome    2297.25\n",
       "LoanAmount             64.50\n",
       "dtype: float64"
      ]
     },
     "execution_count": 33,
     "metadata": {},
     "output_type": "execute_result"
    }
   ],
   "source": [
    "Q1 = df[numerical].quantile(0.25)\n",
    "Q3 = df[numerical].quantile(0.75)\n",
    "IQR = Q3 - Q1\n",
    "IQR"
   ]
  },
  {
   "cell_type": "code",
   "execution_count": 34,
   "id": "5025a9a5",
   "metadata": {
    "execution": {
     "iopub.execute_input": "2022-07-22T17:28:18.728216Z",
     "iopub.status.busy": "2022-07-22T17:28:18.727464Z",
     "iopub.status.idle": "2022-07-22T17:28:18.771470Z",
     "shell.execute_reply": "2022-07-22T17:28:18.770369Z"
    },
    "papermill": {
     "duration": 0.059456,
     "end_time": "2022-07-22T17:28:18.773668",
     "exception": false,
     "start_time": "2022-07-22T17:28:18.714212",
     "status": "completed"
    },
    "tags": []
   },
   "outputs": [
    {
     "data": {
      "text/html": [
       "<div>\n",
       "<style scoped>\n",
       "    .dataframe tbody tr th:only-of-type {\n",
       "        vertical-align: middle;\n",
       "    }\n",
       "\n",
       "    .dataframe tbody tr th {\n",
       "        vertical-align: top;\n",
       "    }\n",
       "\n",
       "    .dataframe thead th {\n",
       "        text-align: right;\n",
       "    }\n",
       "</style>\n",
       "<table border=\"1\" class=\"dataframe\">\n",
       "  <thead>\n",
       "    <tr style=\"text-align: right;\">\n",
       "      <th></th>\n",
       "      <th>Loan_ID</th>\n",
       "      <th>Gender</th>\n",
       "      <th>Married</th>\n",
       "      <th>Dependents</th>\n",
       "      <th>Education</th>\n",
       "      <th>Self_Employed</th>\n",
       "      <th>ApplicantIncome</th>\n",
       "      <th>CoapplicantIncome</th>\n",
       "      <th>LoanAmount</th>\n",
       "      <th>Loan_Amount_Term</th>\n",
       "      <th>Credit_History</th>\n",
       "      <th>Property_Area</th>\n",
       "      <th>Loan_Status</th>\n",
       "    </tr>\n",
       "  </thead>\n",
       "  <tbody>\n",
       "    <tr>\n",
       "      <th>0</th>\n",
       "      <td>LP001002</td>\n",
       "      <td>1</td>\n",
       "      <td>0</td>\n",
       "      <td>0</td>\n",
       "      <td>0</td>\n",
       "      <td>0</td>\n",
       "      <td>5849.0</td>\n",
       "      <td>0.0</td>\n",
       "      <td>146.412162</td>\n",
       "      <td>8</td>\n",
       "      <td>1</td>\n",
       "      <td>2</td>\n",
       "      <td>1</td>\n",
       "    </tr>\n",
       "    <tr>\n",
       "      <th>1</th>\n",
       "      <td>LP001003</td>\n",
       "      <td>1</td>\n",
       "      <td>1</td>\n",
       "      <td>1</td>\n",
       "      <td>0</td>\n",
       "      <td>0</td>\n",
       "      <td>4583.0</td>\n",
       "      <td>1508.0</td>\n",
       "      <td>128.000000</td>\n",
       "      <td>8</td>\n",
       "      <td>1</td>\n",
       "      <td>0</td>\n",
       "      <td>0</td>\n",
       "    </tr>\n",
       "    <tr>\n",
       "      <th>2</th>\n",
       "      <td>LP001005</td>\n",
       "      <td>1</td>\n",
       "      <td>1</td>\n",
       "      <td>0</td>\n",
       "      <td>0</td>\n",
       "      <td>1</td>\n",
       "      <td>3000.0</td>\n",
       "      <td>0.0</td>\n",
       "      <td>66.000000</td>\n",
       "      <td>8</td>\n",
       "      <td>1</td>\n",
       "      <td>2</td>\n",
       "      <td>1</td>\n",
       "    </tr>\n",
       "    <tr>\n",
       "      <th>3</th>\n",
       "      <td>LP001006</td>\n",
       "      <td>1</td>\n",
       "      <td>1</td>\n",
       "      <td>0</td>\n",
       "      <td>1</td>\n",
       "      <td>0</td>\n",
       "      <td>2583.0</td>\n",
       "      <td>2358.0</td>\n",
       "      <td>120.000000</td>\n",
       "      <td>8</td>\n",
       "      <td>1</td>\n",
       "      <td>2</td>\n",
       "      <td>1</td>\n",
       "    </tr>\n",
       "    <tr>\n",
       "      <th>4</th>\n",
       "      <td>LP001008</td>\n",
       "      <td>1</td>\n",
       "      <td>0</td>\n",
       "      <td>0</td>\n",
       "      <td>0</td>\n",
       "      <td>0</td>\n",
       "      <td>6000.0</td>\n",
       "      <td>0.0</td>\n",
       "      <td>141.000000</td>\n",
       "      <td>8</td>\n",
       "      <td>1</td>\n",
       "      <td>2</td>\n",
       "      <td>1</td>\n",
       "    </tr>\n",
       "    <tr>\n",
       "      <th>...</th>\n",
       "      <td>...</td>\n",
       "      <td>...</td>\n",
       "      <td>...</td>\n",
       "      <td>...</td>\n",
       "      <td>...</td>\n",
       "      <td>...</td>\n",
       "      <td>...</td>\n",
       "      <td>...</td>\n",
       "      <td>...</td>\n",
       "      <td>...</td>\n",
       "      <td>...</td>\n",
       "      <td>...</td>\n",
       "      <td>...</td>\n",
       "    </tr>\n",
       "    <tr>\n",
       "      <th>530</th>\n",
       "      <td>LP002978</td>\n",
       "      <td>0</td>\n",
       "      <td>0</td>\n",
       "      <td>0</td>\n",
       "      <td>0</td>\n",
       "      <td>0</td>\n",
       "      <td>2900.0</td>\n",
       "      <td>0.0</td>\n",
       "      <td>71.000000</td>\n",
       "      <td>8</td>\n",
       "      <td>1</td>\n",
       "      <td>0</td>\n",
       "      <td>1</td>\n",
       "    </tr>\n",
       "    <tr>\n",
       "      <th>531</th>\n",
       "      <td>LP002979</td>\n",
       "      <td>1</td>\n",
       "      <td>1</td>\n",
       "      <td>3</td>\n",
       "      <td>0</td>\n",
       "      <td>0</td>\n",
       "      <td>4106.0</td>\n",
       "      <td>0.0</td>\n",
       "      <td>40.000000</td>\n",
       "      <td>5</td>\n",
       "      <td>1</td>\n",
       "      <td>0</td>\n",
       "      <td>1</td>\n",
       "    </tr>\n",
       "    <tr>\n",
       "      <th>532</th>\n",
       "      <td>LP002983</td>\n",
       "      <td>1</td>\n",
       "      <td>1</td>\n",
       "      <td>1</td>\n",
       "      <td>0</td>\n",
       "      <td>0</td>\n",
       "      <td>8072.0</td>\n",
       "      <td>240.0</td>\n",
       "      <td>253.000000</td>\n",
       "      <td>8</td>\n",
       "      <td>1</td>\n",
       "      <td>2</td>\n",
       "      <td>1</td>\n",
       "    </tr>\n",
       "    <tr>\n",
       "      <th>533</th>\n",
       "      <td>LP002984</td>\n",
       "      <td>1</td>\n",
       "      <td>1</td>\n",
       "      <td>2</td>\n",
       "      <td>0</td>\n",
       "      <td>0</td>\n",
       "      <td>7583.0</td>\n",
       "      <td>0.0</td>\n",
       "      <td>187.000000</td>\n",
       "      <td>8</td>\n",
       "      <td>1</td>\n",
       "      <td>2</td>\n",
       "      <td>1</td>\n",
       "    </tr>\n",
       "    <tr>\n",
       "      <th>534</th>\n",
       "      <td>LP002990</td>\n",
       "      <td>0</td>\n",
       "      <td>0</td>\n",
       "      <td>0</td>\n",
       "      <td>0</td>\n",
       "      <td>1</td>\n",
       "      <td>4583.0</td>\n",
       "      <td>0.0</td>\n",
       "      <td>133.000000</td>\n",
       "      <td>8</td>\n",
       "      <td>0</td>\n",
       "      <td>1</td>\n",
       "      <td>0</td>\n",
       "    </tr>\n",
       "  </tbody>\n",
       "</table>\n",
       "<p>535 rows × 13 columns</p>\n",
       "</div>"
      ],
      "text/plain": [
       "      Loan_ID  Gender  Married  Dependents  Education  Self_Employed  \\\n",
       "0    LP001002       1        0           0          0              0   \n",
       "1    LP001003       1        1           1          0              0   \n",
       "2    LP001005       1        1           0          0              1   \n",
       "3    LP001006       1        1           0          1              0   \n",
       "4    LP001008       1        0           0          0              0   \n",
       "..        ...     ...      ...         ...        ...            ...   \n",
       "530  LP002978       0        0           0          0              0   \n",
       "531  LP002979       1        1           3          0              0   \n",
       "532  LP002983       1        1           1          0              0   \n",
       "533  LP002984       1        1           2          0              0   \n",
       "534  LP002990       0        0           0          0              1   \n",
       "\n",
       "     ApplicantIncome  CoapplicantIncome  LoanAmount  Loan_Amount_Term  \\\n",
       "0             5849.0                0.0  146.412162                 8   \n",
       "1             4583.0             1508.0  128.000000                 8   \n",
       "2             3000.0                0.0   66.000000                 8   \n",
       "3             2583.0             2358.0  120.000000                 8   \n",
       "4             6000.0                0.0  141.000000                 8   \n",
       "..               ...                ...         ...               ...   \n",
       "530           2900.0                0.0   71.000000                 8   \n",
       "531           4106.0                0.0   40.000000                 5   \n",
       "532           8072.0              240.0  253.000000                 8   \n",
       "533           7583.0                0.0  187.000000                 8   \n",
       "534           4583.0                0.0  133.000000                 8   \n",
       "\n",
       "     Credit_History  Property_Area  Loan_Status  \n",
       "0                 1              2            1  \n",
       "1                 1              0            0  \n",
       "2                 1              2            1  \n",
       "3                 1              2            1  \n",
       "4                 1              2            1  \n",
       "..              ...            ...          ...  \n",
       "530               1              0            1  \n",
       "531               1              0            1  \n",
       "532               1              2            1  \n",
       "533               1              2            1  \n",
       "534               0              1            0  \n",
       "\n",
       "[535 rows x 13 columns]"
      ]
     },
     "execution_count": 34,
     "metadata": {},
     "output_type": "execute_result"
    }
   ],
   "source": [
    "df[numerical] = df[~((df[numerical] > Q3+1.5*IQR) | (df[numerical] < Q1 - 1.5*IQR))][numerical]\n",
    "df = df.dropna().reset_index().drop('index', axis=1)\n",
    "df"
   ]
  },
  {
   "cell_type": "code",
   "execution_count": 35,
   "id": "8e944c43",
   "metadata": {
    "execution": {
     "iopub.execute_input": "2022-07-22T17:28:20.023809Z",
     "iopub.status.busy": "2022-07-22T17:28:20.023123Z",
     "iopub.status.idle": "2022-07-22T17:28:20.045719Z",
     "shell.execute_reply": "2022-07-22T17:28:20.044538Z"
    },
    "papermill": {
     "duration": 0.039812,
     "end_time": "2022-07-22T17:28:20.048056",
     "exception": false,
     "start_time": "2022-07-22T17:28:20.008244",
     "status": "completed"
    },
    "tags": []
   },
   "outputs": [
    {
     "data": {
      "text/html": [
       "<div>\n",
       "<style scoped>\n",
       "    .dataframe tbody tr th:only-of-type {\n",
       "        vertical-align: middle;\n",
       "    }\n",
       "\n",
       "    .dataframe tbody tr th {\n",
       "        vertical-align: top;\n",
       "    }\n",
       "\n",
       "    .dataframe thead th {\n",
       "        text-align: right;\n",
       "    }\n",
       "</style>\n",
       "<table border=\"1\" class=\"dataframe\">\n",
       "  <thead>\n",
       "    <tr style=\"text-align: right;\">\n",
       "      <th></th>\n",
       "      <th>Gender</th>\n",
       "      <th>Married</th>\n",
       "      <th>Dependents</th>\n",
       "      <th>Education</th>\n",
       "      <th>Self_Employed</th>\n",
       "      <th>ApplicantIncome</th>\n",
       "      <th>CoapplicantIncome</th>\n",
       "      <th>LoanAmount</th>\n",
       "      <th>Loan_Amount_Term</th>\n",
       "      <th>Credit_History</th>\n",
       "      <th>Property_Area</th>\n",
       "      <th>Loan_Status</th>\n",
       "    </tr>\n",
       "  </thead>\n",
       "  <tbody>\n",
       "    <tr>\n",
       "      <th>Gender</th>\n",
       "      <td>1.000000</td>\n",
       "      <td>0.372519</td>\n",
       "      <td>0.187076</td>\n",
       "      <td>0.072320</td>\n",
       "      <td>0.021148</td>\n",
       "      <td>0.074849</td>\n",
       "      <td>0.198652</td>\n",
       "      <td>0.148249</td>\n",
       "      <td>-0.068856</td>\n",
       "      <td>0.005714</td>\n",
       "      <td>-0.006906</td>\n",
       "      <td>0.047217</td>\n",
       "    </tr>\n",
       "    <tr>\n",
       "      <th>Married</th>\n",
       "      <td>0.372519</td>\n",
       "      <td>1.000000</td>\n",
       "      <td>0.340098</td>\n",
       "      <td>0.025423</td>\n",
       "      <td>0.016299</td>\n",
       "      <td>0.006116</td>\n",
       "      <td>0.258669</td>\n",
       "      <td>0.203016</td>\n",
       "      <td>-0.069947</td>\n",
       "      <td>0.008181</td>\n",
       "      <td>0.012458</td>\n",
       "      <td>0.085391</td>\n",
       "    </tr>\n",
       "    <tr>\n",
       "      <th>Dependents</th>\n",
       "      <td>0.187076</td>\n",
       "      <td>0.340098</td>\n",
       "      <td>1.000000</td>\n",
       "      <td>0.082991</td>\n",
       "      <td>0.054542</td>\n",
       "      <td>0.118185</td>\n",
       "      <td>-0.064006</td>\n",
       "      <td>0.114099</td>\n",
       "      <td>-0.086719</td>\n",
       "      <td>-0.032058</td>\n",
       "      <td>0.016343</td>\n",
       "      <td>0.008150</td>\n",
       "    </tr>\n",
       "    <tr>\n",
       "      <th>Education</th>\n",
       "      <td>0.072320</td>\n",
       "      <td>0.025423</td>\n",
       "      <td>0.082991</td>\n",
       "      <td>1.000000</td>\n",
       "      <td>0.000869</td>\n",
       "      <td>-0.147857</td>\n",
       "      <td>-0.028559</td>\n",
       "      <td>-0.117899</td>\n",
       "      <td>-0.074487</td>\n",
       "      <td>-0.085002</td>\n",
       "      <td>-0.063382</td>\n",
       "      <td>-0.114159</td>\n",
       "    </tr>\n",
       "    <tr>\n",
       "      <th>Self_Employed</th>\n",
       "      <td>0.021148</td>\n",
       "      <td>0.016299</td>\n",
       "      <td>0.054542</td>\n",
       "      <td>0.000869</td>\n",
       "      <td>1.000000</td>\n",
       "      <td>0.187889</td>\n",
       "      <td>-0.056586</td>\n",
       "      <td>0.087663</td>\n",
       "      <td>-0.055563</td>\n",
       "      <td>0.031554</td>\n",
       "      <td>-0.060971</td>\n",
       "      <td>-0.005302</td>\n",
       "    </tr>\n",
       "    <tr>\n",
       "      <th>ApplicantIncome</th>\n",
       "      <td>0.074849</td>\n",
       "      <td>0.006116</td>\n",
       "      <td>0.118185</td>\n",
       "      <td>-0.147857</td>\n",
       "      <td>0.187889</td>\n",
       "      <td>1.000000</td>\n",
       "      <td>-0.266763</td>\n",
       "      <td>0.475531</td>\n",
       "      <td>-0.051219</td>\n",
       "      <td>0.051843</td>\n",
       "      <td>-0.076389</td>\n",
       "      <td>0.013046</td>\n",
       "    </tr>\n",
       "    <tr>\n",
       "      <th>CoapplicantIncome</th>\n",
       "      <td>0.198652</td>\n",
       "      <td>0.258669</td>\n",
       "      <td>-0.064006</td>\n",
       "      <td>-0.028559</td>\n",
       "      <td>-0.056586</td>\n",
       "      <td>-0.266763</td>\n",
       "      <td>1.000000</td>\n",
       "      <td>0.287415</td>\n",
       "      <td>-0.006535</td>\n",
       "      <td>0.008528</td>\n",
       "      <td>-0.092128</td>\n",
       "      <td>0.068056</td>\n",
       "    </tr>\n",
       "    <tr>\n",
       "      <th>LoanAmount</th>\n",
       "      <td>0.148249</td>\n",
       "      <td>0.203016</td>\n",
       "      <td>0.114099</td>\n",
       "      <td>-0.117899</td>\n",
       "      <td>0.087663</td>\n",
       "      <td>0.475531</td>\n",
       "      <td>0.287415</td>\n",
       "      <td>1.000000</td>\n",
       "      <td>0.090923</td>\n",
       "      <td>0.008066</td>\n",
       "      <td>-0.115322</td>\n",
       "      <td>-0.020474</td>\n",
       "    </tr>\n",
       "    <tr>\n",
       "      <th>Loan_Amount_Term</th>\n",
       "      <td>-0.068856</td>\n",
       "      <td>-0.069947</td>\n",
       "      <td>-0.086719</td>\n",
       "      <td>-0.074487</td>\n",
       "      <td>-0.055563</td>\n",
       "      <td>-0.051219</td>\n",
       "      <td>-0.006535</td>\n",
       "      <td>0.090923</td>\n",
       "      <td>1.000000</td>\n",
       "      <td>-0.013797</td>\n",
       "      <td>-0.091764</td>\n",
       "      <td>-0.004415</td>\n",
       "    </tr>\n",
       "    <tr>\n",
       "      <th>Credit_History</th>\n",
       "      <td>0.005714</td>\n",
       "      <td>0.008181</td>\n",
       "      <td>-0.032058</td>\n",
       "      <td>-0.085002</td>\n",
       "      <td>0.031554</td>\n",
       "      <td>0.051843</td>\n",
       "      <td>0.008528</td>\n",
       "      <td>0.008066</td>\n",
       "      <td>-0.013797</td>\n",
       "      <td>1.000000</td>\n",
       "      <td>0.009835</td>\n",
       "      <td>0.566580</td>\n",
       "    </tr>\n",
       "    <tr>\n",
       "      <th>Property_Area</th>\n",
       "      <td>-0.006906</td>\n",
       "      <td>0.012458</td>\n",
       "      <td>0.016343</td>\n",
       "      <td>-0.063382</td>\n",
       "      <td>-0.060971</td>\n",
       "      <td>-0.076389</td>\n",
       "      <td>-0.092128</td>\n",
       "      <td>-0.115322</td>\n",
       "      <td>-0.091764</td>\n",
       "      <td>0.009835</td>\n",
       "      <td>1.000000</td>\n",
       "      <td>0.026103</td>\n",
       "    </tr>\n",
       "    <tr>\n",
       "      <th>Loan_Status</th>\n",
       "      <td>0.047217</td>\n",
       "      <td>0.085391</td>\n",
       "      <td>0.008150</td>\n",
       "      <td>-0.114159</td>\n",
       "      <td>-0.005302</td>\n",
       "      <td>0.013046</td>\n",
       "      <td>0.068056</td>\n",
       "      <td>-0.020474</td>\n",
       "      <td>-0.004415</td>\n",
       "      <td>0.566580</td>\n",
       "      <td>0.026103</td>\n",
       "      <td>1.000000</td>\n",
       "    </tr>\n",
       "  </tbody>\n",
       "</table>\n",
       "</div>"
      ],
      "text/plain": [
       "                     Gender   Married  Dependents  Education  Self_Employed  \\\n",
       "Gender             1.000000  0.372519    0.187076   0.072320       0.021148   \n",
       "Married            0.372519  1.000000    0.340098   0.025423       0.016299   \n",
       "Dependents         0.187076  0.340098    1.000000   0.082991       0.054542   \n",
       "Education          0.072320  0.025423    0.082991   1.000000       0.000869   \n",
       "Self_Employed      0.021148  0.016299    0.054542   0.000869       1.000000   \n",
       "ApplicantIncome    0.074849  0.006116    0.118185  -0.147857       0.187889   \n",
       "CoapplicantIncome  0.198652  0.258669   -0.064006  -0.028559      -0.056586   \n",
       "LoanAmount         0.148249  0.203016    0.114099  -0.117899       0.087663   \n",
       "Loan_Amount_Term  -0.068856 -0.069947   -0.086719  -0.074487      -0.055563   \n",
       "Credit_History     0.005714  0.008181   -0.032058  -0.085002       0.031554   \n",
       "Property_Area     -0.006906  0.012458    0.016343  -0.063382      -0.060971   \n",
       "Loan_Status        0.047217  0.085391    0.008150  -0.114159      -0.005302   \n",
       "\n",
       "                   ApplicantIncome  CoapplicantIncome  LoanAmount  \\\n",
       "Gender                    0.074849           0.198652    0.148249   \n",
       "Married                   0.006116           0.258669    0.203016   \n",
       "Dependents                0.118185          -0.064006    0.114099   \n",
       "Education                -0.147857          -0.028559   -0.117899   \n",
       "Self_Employed             0.187889          -0.056586    0.087663   \n",
       "ApplicantIncome           1.000000          -0.266763    0.475531   \n",
       "CoapplicantIncome        -0.266763           1.000000    0.287415   \n",
       "LoanAmount                0.475531           0.287415    1.000000   \n",
       "Loan_Amount_Term         -0.051219          -0.006535    0.090923   \n",
       "Credit_History            0.051843           0.008528    0.008066   \n",
       "Property_Area            -0.076389          -0.092128   -0.115322   \n",
       "Loan_Status               0.013046           0.068056   -0.020474   \n",
       "\n",
       "                   Loan_Amount_Term  Credit_History  Property_Area  \\\n",
       "Gender                    -0.068856        0.005714      -0.006906   \n",
       "Married                   -0.069947        0.008181       0.012458   \n",
       "Dependents                -0.086719       -0.032058       0.016343   \n",
       "Education                 -0.074487       -0.085002      -0.063382   \n",
       "Self_Employed             -0.055563        0.031554      -0.060971   \n",
       "ApplicantIncome           -0.051219        0.051843      -0.076389   \n",
       "CoapplicantIncome         -0.006535        0.008528      -0.092128   \n",
       "LoanAmount                 0.090923        0.008066      -0.115322   \n",
       "Loan_Amount_Term           1.000000       -0.013797      -0.091764   \n",
       "Credit_History            -0.013797        1.000000       0.009835   \n",
       "Property_Area             -0.091764        0.009835       1.000000   \n",
       "Loan_Status               -0.004415        0.566580       0.026103   \n",
       "\n",
       "                   Loan_Status  \n",
       "Gender                0.047217  \n",
       "Married               0.085391  \n",
       "Dependents            0.008150  \n",
       "Education            -0.114159  \n",
       "Self_Employed        -0.005302  \n",
       "ApplicantIncome       0.013046  \n",
       "CoapplicantIncome     0.068056  \n",
       "LoanAmount           -0.020474  \n",
       "Loan_Amount_Term     -0.004415  \n",
       "Credit_History        0.566580  \n",
       "Property_Area         0.026103  \n",
       "Loan_Status           1.000000  "
      ]
     },
     "execution_count": 35,
     "metadata": {},
     "output_type": "execute_result"
    }
   ],
   "source": [
    "df.corr()"
   ]
  },
  {
   "cell_type": "markdown",
   "id": "ea9ebc33",
   "metadata": {
    "papermill": {
     "duration": 0.013306,
     "end_time": "2022-07-22T17:28:20.075172",
     "exception": false,
     "start_time": "2022-07-22T17:28:20.061866",
     "status": "completed"
    },
    "tags": []
   },
   "source": [
    "## Checking Imbalance\n",
    "- Number of approved Loans are much more than Number of approved Loans"
   ]
  },
  {
   "cell_type": "code",
   "execution_count": 36,
   "id": "15f82548",
   "metadata": {
    "execution": {
     "iopub.execute_input": "2022-07-22T17:28:20.104535Z",
     "iopub.status.busy": "2022-07-22T17:28:20.103794Z",
     "iopub.status.idle": "2022-07-22T17:28:20.304093Z",
     "shell.execute_reply": "2022-07-22T17:28:20.302908Z"
    },
    "papermill": {
     "duration": 0.217581,
     "end_time": "2022-07-22T17:28:20.306419",
     "exception": false,
     "start_time": "2022-07-22T17:28:20.088838",
     "status": "completed"
    },
    "tags": []
   },
   "outputs": [
    {
     "data": {
      "text/plain": [
       "<AxesSubplot:xlabel='Loan_Status', ylabel='Count'>"
      ]
     },
     "execution_count": 36,
     "metadata": {},
     "output_type": "execute_result"
    },
    {
     "data": {
      "image/png": "[encoded data removed]",
      "text/plain": [
       "<Figure size 432x288 with 1 Axes>"
      ]
     },
     "metadata": {
      "needs_background": "light"
     },
     "output_type": "display_data"
    }
   ],
   "source": [
    "sns.histplot(df['Loan_Status'])"
   ]
  },
  {
   "cell_type": "markdown",
   "id": "469fe40d",
   "metadata": {
    "papermill": {
     "duration": 0.013674,
     "end_time": "2022-07-22T17:28:20.334354",
     "exception": false,
     "start_time": "2022-07-22T17:28:20.320680",
     "status": "completed"
    },
    "tags": []
   },
   "source": [
    "## Splitting into training and testing then using SMOTE to rectify class imbalance"
   ]
  },
  {
   "cell_type": "code",
   "execution_count": 37,
   "id": "d2499f61",
   "metadata": {
    "execution": {
     "iopub.execute_input": "2022-07-22T17:28:20.364100Z",
     "iopub.status.busy": "2022-07-22T17:28:20.363169Z",
     "iopub.status.idle": "2022-07-22T17:28:20.377585Z",
     "shell.execute_reply": "2022-07-22T17:28:20.376818Z"
    },
    "papermill": {
     "duration": 0.031447,
     "end_time": "2022-07-22T17:28:20.379714",
     "exception": false,
     "start_time": "2022-07-22T17:28:20.348267",
     "status": "completed"
    },
    "tags": []
   },
   "outputs": [],
   "source": [
    "X=df.iloc[:,1:-1]\n",
    "Y=df.iloc[:,-1]\n",
    "X_train, X_test, y_train, y_test = train_test_split(X, Y, test_size=0.2, random_state=42)\n",
    "#X_train, y_train = SMOTE().fit_resample(X=X_train, y=y_train)"
   ]
  },
  {
   "cell_type": "markdown",
   "id": "98809914",
   "metadata": {
    "papermill": {
     "duration": 0.01361,
     "end_time": "2022-07-22T17:28:20.407331",
     "exception": false,
     "start_time": "2022-07-22T17:28:20.393721",
     "status": "completed"
    },
    "tags": []
   },
   "source": [
    "## Using XGBoost and checking the appropriate value of max_depth parameter"
   ]
  },
  {
   "cell_type": "code",
   "execution_count": 38,
   "id": "da0aa955",
   "metadata": {
    "execution": {
     "iopub.execute_input": "2022-07-22T17:28:20.437282Z",
     "iopub.status.busy": "2022-07-22T17:28:20.436627Z",
     "iopub.status.idle": "2022-07-22T17:28:54.819884Z",
     "shell.execute_reply": "2022-07-22T17:28:54.818617Z"
    },
    "papermill": {
     "duration": 34.401128,
     "end_time": "2022-07-22T17:28:54.822353",
     "exception": false,
     "start_time": "2022-07-22T17:28:20.421225",
     "status": "completed"
    },
    "tags": []
   },
   "outputs": [],
   "source": [
    "precision = []\n",
    "recall = []\n",
    "macc = []\n",
    "f1 = []\n",
    "for max_depth in range(3, 15):\n",
    "    XGBclassifier = XGBClassifier(n_estimators = 1000, max_depth = max_depth, learning_rate = 0.03, objective = 'binary:logistic', eval_metric = 'auc')\n",
    "    XGBclassifier.fit(X_train, y_train)\n",
    "    xyz = XGBclassifier.predict(X_test)\n",
    "    precision.append(precision_score(y_test, xyz))\n",
    "    recall.append(recall_score(y_test, xyz))\n",
    "    f1.append(f1_score(y_test, xyz))\n",
    "    macc.append(accuracy_score(y_test, xyz))"
   ]
  },
  {
   "cell_type": "code",
   "execution_count": 39,
   "id": "89ca78dd",
   "metadata": {
    "execution": {
     "iopub.execute_input": "2022-07-22T17:28:54.853261Z",
     "iopub.status.busy": "2022-07-22T17:28:54.852415Z",
     "iopub.status.idle": "2022-07-22T17:28:55.078399Z",
     "shell.execute_reply": "2022-07-22T17:28:55.077381Z"
    },
    "papermill": {
     "duration": 0.243676,
     "end_time": "2022-07-22T17:28:55.080692",
     "exception": false,
     "start_time": "2022-07-22T17:28:54.837016",
     "status": "completed"
    },
    "tags": []
   },
   "outputs": [
    {
     "data": {
      "text/plain": [
       "<matplotlib.legend.Legend at 0x23ffa61b130>"
      ]
     },
     "execution_count": 39,
     "metadata": {},
     "output_type": "execute_result"
    },
    {
     "data": {
      "image/png": "[encoded data removed]",
      "text/plain": [
       "<Figure size 432x288 with 1 Axes>"
      ]
     },
     "metadata": {
      "needs_background": "light"
     },
     "output_type": "display_data"
    }
   ],
   "source": [
    "X = np.arange(3, 15)\n",
    "plt.plot(X[:12], precision[:12], label = 'Precision')\n",
    "plt.plot(X[:12], recall[:12], label = 'Recall')\n",
    "plt.plot(X[:12], f1[:12], label = 'F1 Score')\n",
    "plt.plot(X[:12], macc[:12], label = 'Acc')\n",
    "plt.legend()"
   ]
  },
  {
   "cell_type": "code",
   "execution_count": 40,
   "id": "686ad14a",
   "metadata": {
    "execution": {
     "iopub.execute_input": "2022-07-22T17:28:55.112618Z",
     "iopub.status.busy": "2022-07-22T17:28:55.111551Z",
     "iopub.status.idle": "2022-07-22T17:28:55.119228Z",
     "shell.execute_reply": "2022-07-22T17:28:55.118220Z"
    },
    "papermill": {
     "duration": 0.025885,
     "end_time": "2022-07-22T17:28:55.121395",
     "exception": false,
     "start_time": "2022-07-22T17:28:55.095510",
     "status": "completed"
    },
    "tags": []
   },
   "outputs": [
    {
     "data": {
      "text/plain": [
       "7"
      ]
     },
     "execution_count": 40,
     "metadata": {},
     "output_type": "execute_result"
    }
   ],
   "source": [
    "max_depth = mode([3+np.argmax(f1), 3+np.argmax(precision), 3+np.argmax(macc), 3+np.argmax(recall)])\n",
    "max_depth"
   ]
  },
  {
   "cell_type": "markdown",
   "id": "f099c123",
   "metadata": {
    "papermill": {
     "duration": 0.014712,
     "end_time": "2022-07-22T17:28:55.150954",
     "exception": false,
     "start_time": "2022-07-22T17:28:55.136242",
     "status": "completed"
    },
    "tags": []
   },
   "source": [
    "## Training 7 models over training data"
   ]
  },
  {
   "cell_type": "code",
   "execution_count": 41,
   "id": "b3e55cf2",
   "metadata": {
    "scrolled": false
   },
   "outputs": [
    {
     "name": "stderr",
     "output_type": "stream",
     "text": [
      "C:\\Users\\Hazem\\anaconda3\\lib\\site-packages\\sklearn\\svm\\_base.py:1225: ConvergenceWarning: Liblinear failed to converge, increase the number of iterations.\n",
      "  warnings.warn(\n",
      "C:\\Users\\Hazem\\anaconda3\\lib\\site-packages\\xgboost\\sklearn.py:793: UserWarning: `early_stopping_rounds` in `fit` method is deprecated for better compatibility with scikit-learn, use `early_stopping_rounds` in constructor or`set_params` instead.\n",
      "  warnings.warn(\n"
     ]
    },
    {
     "name": "stdout",
     "output_type": "stream",
     "text": [
      "SVC with linear kernel\n",
      "Train accuracy:  0.6892523364485982\n",
      "Test accuracy:  0.719626168224299\n",
      "LinearSVC (linear kernel)\n",
      "Train accuracy:  0.3294392523364486\n",
      "Test accuracy:  0.2803738317757009\n",
      "SVC with RBF kernel\n",
      "Train accuracy:  0.6892523364485982\n",
      "Test accuracy:  0.719626168224299\n",
      "SVC with polynomial (degree 3) kernel\n",
      "Train accuracy:  0.6892523364485982\n",
      "Test accuracy:  0.719626168224299\n",
      "AdaBoost\n",
      "Train accuracy:  0.8364485981308412\n",
      "Test accuracy:  0.8411214953271028\n",
      "XGBoost\n",
      "Train accuracy:  0.9158878504672897\n",
      "Test accuracy:  0.8598130841121495\n",
      "RF\n",
      "Train accuracy:  0.8714953271028038\n",
      "Test accuracy:  0.8598130841121495\n"
     ]
    }
   ],
   "source": [
    "C = 0.001  # SVM regularization parameter\n",
    "svc = svm.SVC(kernel='linear', C=C).fit(X_train, y_train)\n",
    "lin_svc = svm.LinearSVC(C=C).fit(X_train, y_train)\n",
    "rbf_svc = svm.SVC(kernel='rbf', gamma=0.8, C=C).fit(X_train, y_train)\n",
    "poly_svc = svm.SVC(kernel='poly', degree=3, C=C).fit(X_train, y_train)\n",
    "AdaBoost = AdaBoostClassifier(n_estimators=1000,learning_rate=0.05)\n",
    "AdaBoost.fit(X_train,y_train)\n",
    "xgboost = XGBClassifier(n_estimators = 1000, learning_rate = 0.05,max_depth=7).fit(X_train, y_train, early_stopping_rounds = 5, eval_set = [(X_test, y_test)],verbose = False)\n",
    "RF = RandomForestClassifier(n_estimators = 1000,max_depth=7, random_state=0)\n",
    "RF.fit(X_train, y_train)\n",
    "\n",
    "titles = ['SVC with linear kernel',\n",
    "          'LinearSVC (linear kernel)',\n",
    "          'SVC with RBF kernel',\n",
    "          'SVC with polynomial (degree 3) kernel',\n",
    "         'AdaBoost',\n",
    "         'XGBoost',\n",
    "          'RF']\n",
    "\n",
    "\n",
    "for i, clf in enumerate((svc, lin_svc, rbf_svc, poly_svc,AdaBoost,xgboost,RF)):\n",
    "    print(titles[i])\n",
    "    \n",
    "    predictions = clf.predict(X_train)\n",
    "    accuracy = np.mean(predictions == y_train)\n",
    "    print(\"Train accuracy: \",accuracy)\n",
    "    \n",
    "    predictions = clf.predict(X_test)\n",
    "    accuracy = np.mean(predictions == y_test)\n",
    "    print(\"Test accuracy: \",accuracy)\n"
   ]
  },
  {
   "cell_type": "markdown",
   "id": "fd31381a",
   "metadata": {},
   "source": [
    "## XGBoost Model Made the Best Results"
   ]
  },
  {
   "cell_type": "code",
   "execution_count": 42,
   "id": "0ab85a52",
   "metadata": {},
   "outputs": [
    {
     "name": "stdout",
     "output_type": "stream",
     "text": [
      "[[18 12]\n",
      " [ 3 74]]\n",
      "precision_score: 0.8604651162790697\n",
      "recall_score: 0.961038961038961\n",
      "f1_Score: 0.9079754601226995\n",
      "accuracy_score: 0.8598130841121495\n"
     ]
    }
   ],
   "source": [
    "y_pred = xgboost.predict(X_test)\n",
    "print(confusion_matrix(y_test, y_pred))\n",
    "\"\"\"Confusion Matrix\n",
    "TP FP\n",
    "FN TN\n",
    "\"\"\"\n",
    "print(f\"precision_score: {precision_score(y_test, y_pred)}\\nrecall_score: {recall_score(y_test, y_pred)}\\nf1_Score: {f1_score(y_test, y_pred)}\\naccuracy_score: {accuracy_score(y_test, y_pred)}\")"
   ]
  },
  {
   "cell_type": "markdown",
   "id": "921d3697",
   "metadata": {
    "papermill": {
     "duration": 0.014731,
     "end_time": "2022-07-22T17:28:57.702281",
     "exception": false,
     "start_time": "2022-07-22T17:28:57.687550",
     "status": "completed"
    },
    "tags": []
   },
   "source": [
    "## Results:\n",
    "- Precision is 0.86\n",
    "- Recall is 0.96\n",
    "- Accuracy is 0.86"
   ]
  }
 ],
 "metadata": {
  "kernelspec": {
   "display_name": "Python 3 (ipykernel)",
   "language": "python",
   "name": "python3"
  },
  "language_info": {
   "codemirror_mode": {
    "name": "ipython",
    "version": 3
   },
   "file_extension": ".py",
   "mimetype": "text/x-python",
   "name": "python",
   "nbconvert_exporter": "python",
   "pygments_lexer": "ipython3",
   "version": "3.9.12"
  },
  "papermill": {
   "default_parameters": {},
   "duration": 52.465428,
   "end_time": "2022-07-22T17:28:58.467527",
   "environment_variables": {},
   "exception": null,
   "input_path": "__notebook__.ipynb",
   "output_path": "__notebook__.ipynb",
   "parameters": {},
   "start_time": "2022-07-22T17:28:06.002099",
   "version": "2.3.4"
  }
 },
 "nbformat": 4,
 "nbformat_minor": 5
}
